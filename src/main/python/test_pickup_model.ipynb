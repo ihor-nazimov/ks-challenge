{
 "cells": [
  {
   "cell_type": "code",
   "execution_count": 44,
   "metadata": {},
   "outputs": [],
   "source": [
    "import pandas as pd\n",
    "import pickle\n",
    "\n",
    "import matplotlib.pyplot as plt\n",
    "%matplotlib inline"
   ]
  },
  {
   "cell_type": "code",
   "execution_count": 45,
   "metadata": {},
   "outputs": [
    {
     "data": {
      "text/plain": [
       "'/home/ihor/anaconda_src/ks-challenge'"
      ]
     },
     "execution_count": 45,
     "metadata": {},
     "output_type": "execute_result"
    }
   ],
   "source": [
    "pwd"
   ]
  },
  {
   "cell_type": "code",
   "execution_count": 46,
   "metadata": {},
   "outputs": [
    {
     "name": "stdout",
     "output_type": "stream",
     "text": [
      "/home/ihor/anaconda_src/ks-challenge\n"
     ]
    }
   ],
   "source": [
    "cd '/home/ihor/anaconda_src/ks-challenge'"
   ]
  },
  {
   "cell_type": "code",
   "execution_count": 47,
   "metadata": {},
   "outputs": [
    {
     "name": "stderr",
     "output_type": "stream",
     "text": [
      "/home/ihor/anaconda3/lib/python3.8/site-packages/sklearn/base.py:310: UserWarning: Trying to unpickle estimator LogisticRegression from version 0.23.2 when using version 0.24.2. This might lead to breaking code or invalid results. Use at your own risk.\n",
      "  warnings.warn(\n",
      "/home/ihor/anaconda3/lib/python3.8/site-packages/sklearn/base.py:310: UserWarning: Trying to unpickle estimator StandardScaler from version 0.23.2 when using version 0.24.2. This might lead to breaking code or invalid results. Use at your own risk.\n",
      "  warnings.warn(\n"
     ]
    }
   ],
   "source": [
    "# Loading the Pre-trained model using Pickle\n",
    "with open('./lib/models/LogisticRegression_simple_6_46.pkl', 'rb') as file:\n",
    "    simple_model = pickle.load(file)\n",
    "\n",
    "with open('./lib/models/Scaler.pkl', 'rb') as file:\n",
    "    scaler = pickle.load(file)\n",
    "with open('./lib/models/LogisticRegression_scaled_full.pkl', 'rb') as file:\n",
    "    full_model = pickle.load(file)\n",
    "    \n",
    "model = full_model\n",
    "\n",
    "scaler_features = ['feature_46', 'feature_35',\n",
    "       'feature_6', 'feature_40', 'feature_47',\n",
    "       'feature_12', 'feature_4', 'feature_31',\n",
    "       'feature_18', 'feature_32', 'feature_3'] \n",
    "\n",
    "logit_features = ['feature_46', 'feature_35',\n",
    "       'feature_6', 'feature_40', 'feature_47',\n",
    "       'feature_12', 'feature_4', 'feature_31',\n",
    "       'feature_18', 'feature_32', 'feature_3']\n",
    "# logit_features = ['feature_46', 'feature_6']"
   ]
  },
  {
   "cell_type": "code",
   "execution_count": 48,
   "metadata": {},
   "outputs": [],
   "source": [
    "def print_prediction_report(xy):\n",
    "    from sklearn.metrics import confusion_matrix\n",
    "    # confusion_matrix = confusion_matrix(y_test, y_pred)\n",
    "    # [[t0, f1] \n",
    "    #  [f0, t1]]\n",
    "    confusion_matrix = confusion_matrix(xy.target, xy.y_pred)\n",
    "    target_value_counts = xy.target.value_counts()\n",
    "    print(target_value_counts)\n",
    "    print(confusion_matrix)\n",
    "    # xy_predicted_data.shape\n",
    "    print('Overall data to predicted class 1 ratio (selectivity): {:.2f}'. \\\n",
    "          format(xy.shape[0] / (confusion_matrix[1,1] + confusion_matrix[0,1])))\n",
    "    print('Precision of class 1 prediction (precision): {:.2f}'.format(confusion_matrix[1,1] / (confusion_matrix[1,1] + confusion_matrix[0,1])))\n",
    "    print('(initial class 1 probability is {:.2f})'.format(target_value_counts[target_value_counts.index == 1].sum() / target_value_counts.sum()))\n",
    "    print('Completeness of class 1 prediction (recall): {:.2f}'.format(confusion_matrix[1,1] / (confusion_matrix[1,1] + confusion_matrix[1,0])))\n",
    "\n",
    "    print('mean(target) = {:.3f}'.format(xy.target.mean()))\n",
    "    print('mean(y_pred) = {:.3f}'.format(xy.y_pred.mean()))\n",
    "    print('mean(y_pred_proba) = {:.3f}'.format(xy.y_pred_proba.mean()))\n",
    "    \n",
    "    from sklearn.metrics import classification_report\n",
    "    print(classification_report(xy.target, xy.y_pred))\n",
    "    #показники якості бінарної кваліфікації:\n",
    "    #recall - повнота (яка частина певного класу виявлена)\n",
    "    #precision - точність (яка частина припущень щодо належності до класу є вірною)\n",
    "\n",
    "    from sklearn.metrics import roc_auc_score\n",
    "    from sklearn.metrics import roc_curve\n",
    "    logit_roc_auc = roc_auc_score(xy.target, xy.y_pred)\n",
    "    fpr, tpr, thresholds = roc_curve(xy.target, xy.y_pred_proba)\n",
    "    plt.figure()\n",
    "    plt.plot(fpr, tpr, label='Logistic Regression (area = %0.2f)' % logit_roc_auc)\n",
    "    plt.plot([0, 1], [0, 1],'r--')\n",
    "    plt.xlim([0.0, 1.0])\n",
    "    plt.ylim([0.0, 1.05])\n",
    "    plt.xlabel('False Positive Rate')\n",
    "    plt.ylabel('True Positive Rate')\n",
    "    plt.title('Receiver operating characteristic')\n",
    "    plt.legend(loc=\"lower right\")\n",
    "    # plt.savefig('Log_ROC')\n",
    "    plt.show()"
   ]
  },
  {
   "cell_type": "code",
   "execution_count": 49,
   "metadata": {},
   "outputs": [
    {
     "name": "stdout",
     "output_type": "stream",
     "text": [
      "(8394, 53)\n",
      "Scaling...\n",
      "Scaling completed\n",
      "Prediction...\n",
      "Prediction completed\n",
      "y_pred_agg      0.342929\n",
      "target          0.260325\n",
      "y_pred_proba    0.415392\n",
      "dtype: float64\n",
      "0    591\n",
      "1    208\n",
      "Name: target, dtype: int64\n",
      "[[440 151]\n",
      " [ 85 123]]\n",
      "Overall data to predicted class 1 ratio (selectivity): 2.92\n",
      "Precision of class 1 prediction (precision): 0.45\n",
      "(initial class 1 probability is 0.26)\n",
      "Completeness of class 1 prediction (recall): 0.59\n",
      "mean(target) = 0.260\n",
      "mean(y_pred) = 0.343\n",
      "mean(y_pred_proba) = 0.415\n",
      "              precision    recall  f1-score   support\n",
      "\n",
      "           0       0.84      0.74      0.79       591\n",
      "           1       0.45      0.59      0.51       208\n",
      "\n",
      "    accuracy                           0.70       799\n",
      "   macro avg       0.64      0.67      0.65       799\n",
      "weighted avg       0.74      0.70      0.72       799\n",
      "\n"
     ]
    },
    {
     "data": {
      "image/png": "[encoded data removed]",
      "text/plain": [
       "<Figure size 432x288 with 1 Axes>"
      ]
     },
     "metadata": {
      "needs_background": "light"
     },
     "output_type": "display_data"
    }
   ],
   "source": [
    "# fullfilename = '/tmp/flask/test_data_1000.json'\n",
    "fullfilename = '/home/ihor/anaconda_src/ks-challenge/src/main/resources/data/api_test_data_full.json'\n",
    "\n",
    "test_data = pd.read_json(fullfilename)\n",
    "print(test_data.shape)\n",
    "print('Scaling...')\n",
    "X_scaled = pd.DataFrame(scaler.transform(test_data[scaler_features]), \n",
    "                        columns=scaler_features, index=test_data.index)[logit_features]\n",
    "print('Scaling completed')\n",
    "\n",
    "print('Prediction...')\n",
    "y_pred = model.predict(X_scaled)\n",
    "print('Prediction completed')\n",
    "y_pred_proba = model.predict_proba(X_scaled)[:,1]\n",
    "# y_pred_proba\n",
    "predicted_test_data = test_data.join(pd.DataFrame({'y_pred':y_pred, 'y_pred_proba':y_pred_proba}, index=test_data.index))\n",
    "predicted_test_data_agg = predicted_test_data[{'id', 'target', 'y_pred_proba'}].groupby('id').mean()\n",
    "predicted_test_data_agg['y_pred_agg'] = (predicted_test_data_agg.y_pred_proba >= 0.5).mul(1)\n",
    "predicted_test_data_agg[{'target', 'y_pred_proba', 'y_pred_agg'}]\n",
    "print(predicted_test_data_agg[{'target', 'y_pred_proba', 'y_pred_agg'}].mean())\n",
    "print_prediction_report(pd.DataFrame({\n",
    "    'target':predicted_test_data_agg.target, \n",
    "    'y_pred':predicted_test_data_agg.y_pred_agg, \n",
    "    'y_pred_proba':predicted_test_data_agg.y_pred_proba}))"
   ]
  }
 ],
 "metadata": {
  "kernelspec": {
   "display_name": "Python 3",
   "language": "python",
   "name": "python3"
  },
  "language_info": {
   "codemirror_mode": {
    "name": "ipython",
    "version": 3
   },
   "file_extension": ".py",
   "mimetype": "text/x-python",
   "name": "python",
   "nbconvert_exporter": "python",
   "pygments_lexer": "ipython3",
   "version": "3.8.5"
  }
 },
 "nbformat": 4,
 "nbformat_minor": 4
}
