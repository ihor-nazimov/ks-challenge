{
 "cells": [
  {
   "cell_type": "code",
   "execution_count": 2,
   "metadata": {},
   "outputs": [
    {
     "name": "stderr",
     "output_type": "stream",
     "text": [
      "/home/ihor/anaconda3/lib/python3.8/site-packages/pyparsing.py:3190: FutureWarning: Possible set intersection at position 3\n",
      "  self.re = re.compile(self.reString)\n"
     ]
    }
   ],
   "source": [
    "import pandas as pb\n",
    "import autosklearn.classification\n",
    "import sklearn.model_selection\n",
    "import sklearn.datasets\n",
    "import sklearn.metrics"
   ]
  },
  {
   "cell_type": "code",
   "execution_count": null,
   "metadata": {},
   "outputs": [],
   "source": [
    "def print_prediction_report(xy):\n",
    "    from sklearn.metrics import confusion_matrix\n",
    "    # confusion_matrix = confusion_matrix(y_test, y_pred)\n",
    "    # [[t0, f1] \n",
    "    #  [f0, t1]]\n",
    "    confusion_matrix = confusion_matrix(xy.target, xy.y_pred)\n",
    "    target_value_counts = xy.target.value_counts()\n",
    "    print(target_value_counts)\n",
    "    print(confusion_matrix)\n",
    "    # xy_predicted_data.shape\n",
    "    print('Overall data to predicted class 1 ratio (selectivity): {:.2f}'. \\\n",
    "          format(xy.shape[0] / (confusion_matrix[1,1] + confusion_matrix[0,1])))\n",
    "    print('Precision of class 1 prediction (precision): {:.2f}'.format(confusion_matrix[1,1] / (confusion_matrix[1,1] + confusion_matrix[0,1])))\n",
    "    print('(initial class 1 probability is {:.2f})'.format(target_value_counts[target_value_counts.index == 1].sum() / target_value_counts.sum()))\n",
    "    print('Completeness of class 1 prediction (recall): {:.2f}'.format(confusion_matrix[1,1] / (confusion_matrix[1,1] + confusion_matrix[1,0])))\n",
    "\n",
    "    from sklearn.metrics import classification_report\n",
    "    print(classification_report(xy.target, xy.y_pred))\n",
    "    #показники якості бінарної кваліфікації:\n",
    "    #recall - повнота (яка частина певного класу виявлена)\n",
    "    #precision - точність (яка частина припущень щодо належності до класу є вірною)\n",
    "\n",
    "    from sklearn.metrics import roc_auc_score\n",
    "    from sklearn.metrics import roc_curve\n",
    "    logit_roc_auc = roc_auc_score(xy.target, xy.y_pred)\n",
    "    fpr, tpr, thresholds = roc_curve(xy.target, xy.y_pred_proba)\n",
    "    plt.figure()\n",
    "    plt.plot(fpr, tpr, label='Logistic Regression (area = %0.2f)' % logit_roc_auc)\n",
    "    plt.plot([0, 1], [0, 1],'r--')\n",
    "    plt.xlim([0.0, 1.0])\n",
    "    plt.ylim([0.0, 1.05])\n",
    "    plt.xlabel('False Positive Rate')\n",
    "    plt.ylabel('True Positive Rate')\n",
    "    plt.title('Receiver operating characteristic')\n",
    "    plt.legend(loc=\"lower right\")\n",
    "    # plt.savefig('Log_ROC')\n",
    "    plt.show()"
   ]
  }
 ],
 "metadata": {
  "kernelspec": {
   "display_name": "Python 3",
   "language": "python",
   "name": "python3"
  },
  "language_info": {
   "codemirror_mode": {
    "name": "ipython",
    "version": 3
   },
   "file_extension": ".py",
   "mimetype": "text/x-python",
   "name": "python",
   "nbconvert_exporter": "python",
   "pygments_lexer": "ipython3",
   "version": "3.8.5"
  }
 },
 "nbformat": 4,
 "nbformat_minor": 4
}
