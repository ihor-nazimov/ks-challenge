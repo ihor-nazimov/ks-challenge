{
 "cells": [
  {
   "cell_type": "code",
   "execution_count": 1,
   "metadata": {},
   "outputs": [],
   "source": [
    "import os\n",
    "import pandas as pd\n",
    "import numpy as np\n",
    "import seaborn as sns\n",
    "import matplotlib.pyplot as plt\n",
    "%matplotlib inline\n",
    "\n",
    "import pickle\n",
    "from pathlib import Path"
   ]
  },
  {
   "cell_type": "markdown",
   "metadata": {},
   "source": [
    "### Завантаження даних (Load data)"
   ]
  },
  {
   "cell_type": "code",
   "execution_count": 2,
   "metadata": {},
   "outputs": [],
   "source": [
    "current_path = Path().absolute()\n",
    "pickle_models_path = Path(current_path.parent.parent.parent, \"lib\", \"models\")\n",
    "resources_data_path = Path(current_path.parent, \"resources\", \"data\")"
   ]
  },
  {
   "cell_type": "code",
   "execution_count": 3,
   "metadata": {},
   "outputs": [
    {
     "data": {
      "text/html": [
       "<div>\n",
       "<style scoped>\n",
       "    .dataframe tbody tr th:only-of-type {\n",
       "        vertical-align: middle;\n",
       "    }\n",
       "\n",
       "    .dataframe tbody tr th {\n",
       "        vertical-align: top;\n",
       "    }\n",
       "\n",
       "    .dataframe thead th {\n",
       "        text-align: right;\n",
       "    }\n",
       "</style>\n",
       "<table border=\"1\" class=\"dataframe\">\n",
       "  <thead>\n",
       "    <tr style=\"text-align: right;\">\n",
       "      <th></th>\n",
       "      <th>id</th>\n",
       "      <th>period</th>\n",
       "      <th>feature_0</th>\n",
       "      <th>feature_1</th>\n",
       "      <th>feature_2</th>\n",
       "      <th>feature_3</th>\n",
       "      <th>feature_4</th>\n",
       "      <th>feature_5</th>\n",
       "      <th>feature_6</th>\n",
       "      <th>feature_7</th>\n",
       "      <th>...</th>\n",
       "      <th>feature_40</th>\n",
       "      <th>feature_41</th>\n",
       "      <th>feature_42</th>\n",
       "      <th>feature_43</th>\n",
       "      <th>feature_44</th>\n",
       "      <th>feature_45</th>\n",
       "      <th>feature_46</th>\n",
       "      <th>feature_47</th>\n",
       "      <th>feature_48</th>\n",
       "      <th>feature_49</th>\n",
       "    </tr>\n",
       "  </thead>\n",
       "  <tbody>\n",
       "    <tr>\n",
       "      <th>0</th>\n",
       "      <td>0</td>\n",
       "      <td>1</td>\n",
       "      <td>110.0</td>\n",
       "      <td>55.0</td>\n",
       "      <td>0.432017</td>\n",
       "      <td>0.000000</td>\n",
       "      <td>176.78</td>\n",
       "      <td>0.0</td>\n",
       "      <td>0.323712</td>\n",
       "      <td>NaN</td>\n",
       "      <td>...</td>\n",
       "      <td>0.00</td>\n",
       "      <td>0</td>\n",
       "      <td>0.000000</td>\n",
       "      <td>0.0</td>\n",
       "      <td>55.0</td>\n",
       "      <td>2.0</td>\n",
       "      <td>0.526552</td>\n",
       "      <td>145.0</td>\n",
       "      <td>133.28</td>\n",
       "      <td>0.0</td>\n",
       "    </tr>\n",
       "    <tr>\n",
       "      <th>1</th>\n",
       "      <td>0</td>\n",
       "      <td>2</td>\n",
       "      <td>110.0</td>\n",
       "      <td>110.0</td>\n",
       "      <td>0.397517</td>\n",
       "      <td>0.000000</td>\n",
       "      <td>315.42</td>\n",
       "      <td>0.0</td>\n",
       "      <td>0.316798</td>\n",
       "      <td>NaN</td>\n",
       "      <td>...</td>\n",
       "      <td>0.00</td>\n",
       "      <td>0</td>\n",
       "      <td>0.000000</td>\n",
       "      <td>0.0</td>\n",
       "      <td>110.0</td>\n",
       "      <td>1.0</td>\n",
       "      <td>0.481063</td>\n",
       "      <td>130.0</td>\n",
       "      <td>229.97</td>\n",
       "      <td>0.0</td>\n",
       "    </tr>\n",
       "    <tr>\n",
       "      <th>2</th>\n",
       "      <td>0</td>\n",
       "      <td>3</td>\n",
       "      <td>110.0</td>\n",
       "      <td>55.0</td>\n",
       "      <td>0.359440</td>\n",
       "      <td>0.000000</td>\n",
       "      <td>354.55</td>\n",
       "      <td>0.0</td>\n",
       "      <td>0.339188</td>\n",
       "      <td>NaN</td>\n",
       "      <td>...</td>\n",
       "      <td>0.07</td>\n",
       "      <td>0</td>\n",
       "      <td>0.000000</td>\n",
       "      <td>0.0</td>\n",
       "      <td>55.0</td>\n",
       "      <td>1.0</td>\n",
       "      <td>0.509598</td>\n",
       "      <td>180.0</td>\n",
       "      <td>231.78</td>\n",
       "      <td>0.0</td>\n",
       "    </tr>\n",
       "    <tr>\n",
       "      <th>3</th>\n",
       "      <td>0</td>\n",
       "      <td>4</td>\n",
       "      <td>110.0</td>\n",
       "      <td>55.0</td>\n",
       "      <td>0.285707</td>\n",
       "      <td>0.000000</td>\n",
       "      <td>229.98</td>\n",
       "      <td>0.0</td>\n",
       "      <td>0.415428</td>\n",
       "      <td>NaN</td>\n",
       "      <td>...</td>\n",
       "      <td>0.00</td>\n",
       "      <td>0</td>\n",
       "      <td>0.000000</td>\n",
       "      <td>0.0</td>\n",
       "      <td>55.0</td>\n",
       "      <td>0.0</td>\n",
       "      <td>0.680089</td>\n",
       "      <td>142.0</td>\n",
       "      <td>183.83</td>\n",
       "      <td>0.0</td>\n",
       "    </tr>\n",
       "    <tr>\n",
       "      <th>4</th>\n",
       "      <td>0</td>\n",
       "      <td>5</td>\n",
       "      <td>110.0</td>\n",
       "      <td>55.0</td>\n",
       "      <td>0.101487</td>\n",
       "      <td>444.730391</td>\n",
       "      <td>307.12</td>\n",
       "      <td>0.0</td>\n",
       "      <td>0.569670</td>\n",
       "      <td>NaN</td>\n",
       "      <td>...</td>\n",
       "      <td>0.95</td>\n",
       "      <td>0</td>\n",
       "      <td>20.014485</td>\n",
       "      <td>0.0</td>\n",
       "      <td>55.0</td>\n",
       "      <td>0.0</td>\n",
       "      <td>0.776175</td>\n",
       "      <td>85.0</td>\n",
       "      <td>155.83</td>\n",
       "      <td>0.0</td>\n",
       "    </tr>\n",
       "  </tbody>\n",
       "</table>\n",
       "<p>5 rows × 52 columns</p>\n",
       "</div>"
      ],
      "text/plain": [
       "   id  period  feature_0  feature_1  feature_2   feature_3  feature_4  \\\n",
       "0   0       1      110.0       55.0   0.432017    0.000000     176.78   \n",
       "1   0       2      110.0      110.0   0.397517    0.000000     315.42   \n",
       "2   0       3      110.0       55.0   0.359440    0.000000     354.55   \n",
       "3   0       4      110.0       55.0   0.285707    0.000000     229.98   \n",
       "4   0       5      110.0       55.0   0.101487  444.730391     307.12   \n",
       "\n",
       "   feature_5  feature_6  feature_7  ...  feature_40  feature_41  feature_42  \\\n",
       "0        0.0   0.323712        NaN  ...        0.00           0    0.000000   \n",
       "1        0.0   0.316798        NaN  ...        0.00           0    0.000000   \n",
       "2        0.0   0.339188        NaN  ...        0.07           0    0.000000   \n",
       "3        0.0   0.415428        NaN  ...        0.00           0    0.000000   \n",
       "4        0.0   0.569670        NaN  ...        0.95           0   20.014485   \n",
       "\n",
       "   feature_43  feature_44  feature_45  feature_46  feature_47  feature_48  \\\n",
       "0         0.0        55.0         2.0    0.526552       145.0      133.28   \n",
       "1         0.0       110.0         1.0    0.481063       130.0      229.97   \n",
       "2         0.0        55.0         1.0    0.509598       180.0      231.78   \n",
       "3         0.0        55.0         0.0    0.680089       142.0      183.83   \n",
       "4         0.0        55.0         0.0    0.776175        85.0      155.83   \n",
       "\n",
       "   feature_49  \n",
       "0         0.0  \n",
       "1         0.0  \n",
       "2         0.0  \n",
       "3         0.0  \n",
       "4         0.0  \n",
       "\n",
       "[5 rows x 52 columns]"
      ]
     },
     "execution_count": 3,
     "metadata": {},
     "output_type": "execute_result"
    }
   ],
   "source": [
    "#load features\n",
    "tabular_data = pd.read_csv(Path(resources_data_path, \"tabular_data.csv\"))\n",
    "tabular_data.head()"
   ]
  },
  {
   "cell_type": "code",
   "execution_count": 4,
   "metadata": {},
   "outputs": [],
   "source": [
    "# List of id columns\n",
    "ids = ['id', 'period']"
   ]
  },
  {
   "cell_type": "code",
   "execution_count": 5,
   "metadata": {},
   "outputs": [
    {
     "name": "stdout",
     "output_type": "stream",
     "text": [
      "(4084, 2)\n"
     ]
    },
    {
     "data": {
      "text/html": [
       "<div>\n",
       "<style scoped>\n",
       "    .dataframe tbody tr th:only-of-type {\n",
       "        vertical-align: middle;\n",
       "    }\n",
       "\n",
       "    .dataframe tbody tr th {\n",
       "        vertical-align: top;\n",
       "    }\n",
       "\n",
       "    .dataframe thead th {\n",
       "        text-align: right;\n",
       "    }\n",
       "</style>\n",
       "<table border=\"1\" class=\"dataframe\">\n",
       "  <thead>\n",
       "    <tr style=\"text-align: right;\">\n",
       "      <th></th>\n",
       "      <th>id</th>\n",
       "      <th>target</th>\n",
       "    </tr>\n",
       "  </thead>\n",
       "  <tbody>\n",
       "    <tr>\n",
       "      <th>0</th>\n",
       "      <td>0</td>\n",
       "      <td>0</td>\n",
       "    </tr>\n",
       "    <tr>\n",
       "      <th>1</th>\n",
       "      <td>1</td>\n",
       "      <td>0</td>\n",
       "    </tr>\n",
       "    <tr>\n",
       "      <th>2</th>\n",
       "      <td>2</td>\n",
       "      <td>1</td>\n",
       "    </tr>\n",
       "    <tr>\n",
       "      <th>3</th>\n",
       "      <td>3</td>\n",
       "      <td>0</td>\n",
       "    </tr>\n",
       "    <tr>\n",
       "      <th>4</th>\n",
       "      <td>4</td>\n",
       "      <td>1</td>\n",
       "    </tr>\n",
       "  </tbody>\n",
       "</table>\n",
       "</div>"
      ],
      "text/plain": [
       "   id  target\n",
       "0   0       0\n",
       "1   1       0\n",
       "2   2       1\n",
       "3   3       0\n",
       "4   4       1"
      ]
     },
     "execution_count": 5,
     "metadata": {},
     "output_type": "execute_result"
    }
   ],
   "source": [
    "#load target class data\n",
    "train = pd.read_csv(Path(resources_data_path, \"train.csv\"))\n",
    "print(train.shape)\n",
    "train.head()"
   ]
  },
  {
   "cell_type": "markdown",
   "metadata": {},
   "source": [
    "### Розподіл даних на навчальну та тестову вибірки (Split to train and test data)"
   ]
  },
  {
   "cell_type": "code",
   "execution_count": 6,
   "metadata": {},
   "outputs": [
    {
     "name": "stdout",
     "output_type": "stream",
     "text": [
      "tabular_data rows with target provided:  49008\n",
      "(3063,) (3063,) 0.2615083251714006\n",
      "(1021,) (1021,) 0.2683643486777669\n",
      "(36756, 52)\n",
      "(12252, 52)\n"
     ]
    }
   ],
   "source": [
    "# Splits tabular_data by subsets of target data in order to prevent period data splitted\n",
    "\n",
    "from sklearn.model_selection import train_test_split\n",
    "\n",
    "print('tabular_data rows with target provided: ', pd.merge(tabular_data, train, how='left', on='id').dropna(subset=['target']).shape[0])\n",
    "\n",
    "# split target data to train and test subsets\n",
    "id_train, id_test, target_train, target_test = train_test_split(train.id, train.target, random_state=5)\n",
    "print(id_train.shape, target_train.shape, target_train.mean())\n",
    "print(id_test.shape, target_test.shape, target_test.mean())\n",
    "\n",
    "# pd.merge(tabular_data, id_train, how='left', on='id').drop\n",
    "tabular_data_train = pd.DataFrame(tabular_data[tabular_data.id.isin(id_train)])\n",
    "print(tabular_data_train.shape)\n",
    "\n",
    "tabular_data_test = pd.DataFrame(tabular_data[tabular_data.id.isin(id_test)])\n",
    "print(tabular_data_test.shape)"
   ]
  },
  {
   "cell_type": "markdown",
   "metadata": {},
   "source": [
    "### Підготовка даних (очищення та перетворення)"
   ]
  },
  {
   "cell_type": "markdown",
   "metadata": {},
   "source": [
    "#### Коригування знаку"
   ]
  },
  {
   "cell_type": "code",
   "execution_count": 7,
   "metadata": {},
   "outputs": [],
   "source": [
    "#sign correction\n",
    "enable_sign_correction = True\n",
    "features_to_correct = ['feature_6', 'feature_8', 'feature_11', 'feature_23', 'feature_32', 'feature_34']\n",
    "\n",
    "if enable_sign_correction:\n",
    "    for feature in features_to_correct:\n",
    "        tabular_data_train[feature] = tabular_data_train[feature].abs()"
   ]
  },
  {
   "cell_type": "markdown",
   "metadata": {},
   "source": [
    "#### Видалення рядків з 10 та більше відсутніх значень"
   ]
  },
  {
   "cell_type": "code",
   "execution_count": 8,
   "metadata": {},
   "outputs": [
    {
     "name": "stdout",
     "output_type": "stream",
     "text": [
      "Rows to delete:\n",
      " Int64Index([   39,    40,    41,    42,    43,    44,    45,    46,    47,\n",
      "              135,\n",
      "            ...\n",
      "            60704, 60705, 60706, 60707, 61014, 61015, 61016, 61017, 61018,\n",
      "            61019],\n",
      "           dtype='int64', length=1763)\n",
      "Total rows before:  36756\n",
      "Total rows after:  35633\n"
     ]
    }
   ],
   "source": [
    "# Delete rows over margin of NaNs count\n",
    "nans_count_margin = 10\n",
    "\n",
    "nans_count = tabular_data.isna().aggregate(func=sum, axis=1)\n",
    "\n",
    "rows_to_delete = nans_count[nans_count >= 10].index\n",
    "print(\"Rows to delete:\\n\", rows_to_delete)\n",
    "print(\"Total rows before: \", tabular_data_train.shape[0])\n",
    "tabular_data_train = tabular_data_train.drop(index=rows_to_delete, errors='ignore')\n",
    "print(\"Total rows after: \", tabular_data_train.shape[0])"
   ]
  },
  {
   "cell_type": "markdown",
   "metadata": {},
   "source": [
    "#### Кодування категоріальних характеристик"
   ]
  },
  {
   "cell_type": "code",
   "execution_count": 9,
   "metadata": {},
   "outputs": [
    {
     "name": "stdout",
     "output_type": "stream",
     "text": [
      "Object features:\n",
      "feature_25 has been encoded\n",
      "Encoded features: \n",
      "Index(['feature_25'], dtype='object')\n"
     ]
    }
   ],
   "source": [
    "# Encode object features\n",
    "df_to_encode = tabular_data_train\n",
    "print('Object features:')\n",
    "features_to_encode = df_to_encode.dtypes[df_to_encode.dtypes == 'O'].drop(columns=ids).index\n",
    "\n",
    "from sklearn.preprocessing import LabelEncoder\n",
    "le = LabelEncoder()\n",
    "#NaN should be encoded as another value\n",
    "encoded_data = df_to_encode\n",
    "for feature in features_to_encode:\n",
    "    encoded_data[feature] = le.fit_transform(df_to_encode[feature].fillna('__NaN__'))\n",
    "    print(feature + \" has been encoded\")\n",
    "encoded_data = encoded_data.drop(columns=features_to_encode, errors='ignore')   \n",
    "\n",
    "print('Encoded features: ')\n",
    "print(features_to_encode)"
   ]
  },
  {
   "cell_type": "markdown",
   "metadata": {},
   "source": [
    "#### Видалення викидів (сплесків)"
   ]
  },
  {
   "cell_type": "code",
   "execution_count": 10,
   "metadata": {},
   "outputs": [
    {
     "name": "stderr",
     "output_type": "stream",
     "text": [
      "<ipython-input-10-189bee18e74e>:24: FutureWarning: Automatic reindexing on DataFrame vs Series comparisons is deprecated and will raise ValueError in a future version.  Do `left, right = left.align(right, axis=1, copy=False)` before e.g. `left == right`\n",
      "  .join(unsplashed_data[ (unsplashed_data >= mean_std['ms_10_left']) & (unsplashed_data <= mean_std['ms_10_right']) ])\n",
      "<ipython-input-10-189bee18e74e>:24: FutureWarning: Automatic reindexing on DataFrame vs Series comparisons is deprecated and will raise ValueError in a future version.  Do `left, right = left.align(right, axis=1, copy=False)` before e.g. `left == right`\n",
      "  .join(unsplashed_data[ (unsplashed_data >= mean_std['ms_10_left']) & (unsplashed_data <= mean_std['ms_10_right']) ])\n"
     ]
    },
    {
     "name": "stdout",
     "output_type": "stream",
     "text": [
      "(35633, 51)\n"
     ]
    }
   ],
   "source": [
    "# Delete splashes\n",
    "splashes_margin = 0.03\n",
    "splashed_data = encoded_data\n",
    "\n",
    "unsplashed_data = splashed_data[splashed_data.columns.drop(['id', 'period'])]\n",
    "mean_std = pd.DataFrame({'mean':splashed_data.mean(), \n",
    "                         'std':splashed_data.std(),\n",
    "                         'q_left':splashed_data.quantile(q=splashes_margin, interpolation='lower'),\n",
    "                         'q_right':splashed_data.quantile(q=1-splashes_margin, interpolation='higher'),\n",
    "                         'q_left_10':splashed_data.quantile(q=0.1, interpolation='lower'),\n",
    "                         'q_right_10':splashed_data.quantile(q=1-0.1, interpolation='higher')\n",
    "                         })\n",
    "mean_std['m_left'] = mean_std['mean'] - 3*mean_std['std']\n",
    "mean_std['m_right'] = mean_std['mean'] + 3*mean_std['std']\n",
    "\n",
    "mean_std['mean_10'] = splashed_data[(splashed_data >= mean_std['q_left_10']) & (splashed_data <= mean_std['q_right_10'])].mean() \n",
    "mean_std['std_10'] = splashed_data[(splashed_data >= mean_std['q_left_10']) & (splashed_data <= mean_std['q_right_10'])].std() \n",
    "\n",
    "mean_std['ms_10_left'] = mean_std['mean_10'] - 3*mean_std['std_10']\n",
    "mean_std['ms_10_right'] = mean_std['mean_10'] + 3*mean_std['std_10'] \n",
    "\n",
    "#cut splashes based on 3*sigma of central 80% values\n",
    "unsplashed_data = splashed_data[{'id', 'period'}] \\\n",
    "    .join(unsplashed_data[ (unsplashed_data >= mean_std['ms_10_left']) & (unsplashed_data <= mean_std['ms_10_right']) ])\n",
    "print(unsplashed_data.shape)\n",
    "# mean_std.head()"
   ]
  },
  {
   "cell_type": "markdown",
   "metadata": {},
   "source": [
    "#### Видалення незначних характеристик"
   ]
  },
  {
   "cell_type": "code",
   "execution_count": 11,
   "metadata": {},
   "outputs": [
    {
     "name": "stdout",
     "output_type": "stream",
     "text": [
      "Nonsignificant features: Index(['feature_0', 'feature_5', 'feature_37', 'feature_38', 'feature_39',\n",
      "       'feature_41'],\n",
      "      dtype='object')\n"
     ]
    },
    {
     "data": {
      "text/plain": [
       "Index(['id', 'period', 'feature_1', 'feature_2', 'feature_3', 'feature_4',\n",
       "       'feature_6', 'feature_7', 'feature_8', 'feature_9', 'feature_10',\n",
       "       'feature_11', 'feature_12', 'feature_13', 'feature_14', 'feature_15',\n",
       "       'feature_16', 'feature_17', 'feature_18', 'feature_19', 'feature_20',\n",
       "       'feature_21', 'feature_22', 'feature_23', 'feature_24', 'feature_26',\n",
       "       'feature_27', 'feature_28', 'feature_29', 'feature_30', 'feature_31',\n",
       "       'feature_32', 'feature_33', 'feature_34', 'feature_35', 'feature_36',\n",
       "       'feature_40', 'feature_42', 'feature_43', 'feature_44', 'feature_45',\n",
       "       'feature_46', 'feature_47', 'feature_48', 'feature_49'],\n",
       "      dtype='object')"
      ]
     },
     "execution_count": 11,
     "metadata": {},
     "output_type": "execute_result"
    }
   ],
   "source": [
    "# Delete non-significant features\n",
    "nonsignifican_margin = 0.05\n",
    "\n",
    "#TIME CONSUMING! (because of nunique)\n",
    "#count uniques and check for data types\n",
    "#NaN is not unique value!\n",
    "#Look for object - it's categorial, so should be converted to dummies\n",
    "input_data = unsplashed_data\n",
    "tabular_data_report = pd.DataFrame({'dtypes':input_data.dtypes,\n",
    "                                    'nunique':input_data.nunique(), \n",
    "                                    'nan_count':input_data.isna().sum(),\n",
    "                                    'm_left':input_data.quantile(q= nonsignifican_margin, interpolation='lower'),\n",
    "                                    'm2_left':input_data.quantile(q= 2*nonsignifican_margin, interpolation='lower'),\n",
    "                                    'm2_right':input_data.quantile(q= 1 - 2*nonsignifican_margin, interpolation='higher'),                                    \n",
    "                                    'm_right':input_data.quantile(q= 1 - nonsignifican_margin, interpolation='higher'),\n",
    "                                    '5%':input_data.quantile(q=0.05),\n",
    "                                    '10%':input_data.quantile(q=0.10),\n",
    "                                    '90%':input_data.quantile(q=0.90),\n",
    "                                    '95%':input_data.quantile(q=0.95)\n",
    "                                   })\n",
    "tabular_data_report = tabular_data_report.join(input_data.describe().transpose()) \\\n",
    "    .drop(['id', 'period'])\n",
    "tabular_data_report\n",
    "\n",
    "nonsignificants = tabular_data_report[ (tabular_data_report['nunique'] <= 1) |\n",
    "                     (tabular_data_report.m_left == tabular_data_report.m_right) | \n",
    "                     (tabular_data_report['min'] == tabular_data_report.m2_right) | \n",
    "                     (tabular_data_report.m2_left == tabular_data_report['max']) ]\n",
    "print(\"Nonsignificant features:\", nonsignificants.index)\n",
    "# nonsignificants\n",
    "cleaned_data = input_data.drop(columns=nonsignificants.index, errors='ignore')\n",
    "cleaned_data.columns"
   ]
  },
  {
   "cell_type": "markdown",
   "metadata": {},
   "source": [
    "### Навчання спрощеної моделі логістичної регресії (2 характеристики)"
   ]
  },
  {
   "cell_type": "code",
   "execution_count": 12,
   "metadata": {},
   "outputs": [],
   "source": [
    "#simple model - two most significant non-scaled features \n",
    "logit_features_short = ['feature_6', 'feature_46']\n",
    "logit_train_data = pd.merge(cleaned_data[set(logit_features_short) | {'id'}].dropna(), train, how='left', on='id')\n",
    "\n",
    "#Балансування - додати копію даних класу 1\n",
    "logit_train_data_oversampled = logit_train_data.append(logit_train_data[logit_train_data.target == 1])\n",
    "logit_train_data_oversampled = logit_train_data_oversampled.append(logit_train_data[logit_train_data.target == 1])\n",
    "\n",
    "from sklearn.linear_model import LogisticRegression\n",
    "from sklearn import metrics\n",
    "\n",
    "from sklearn.linear_model import LogisticRegression\n",
    "from sklearn import metrics\n",
    "\n",
    "X = logit_train_data_oversampled[logit_features_short]\n",
    "y = logit_train_data_oversampled.target\n",
    "\n",
    "logreg_short = LogisticRegression()\n",
    "logreg_short.fit(X, y)\n",
    "\n",
    "# вивантаження моделі до зовнішнього файлу\n",
    "import pickle\n",
    "path=Path(pickle_models_path, \"LogisticRegression_simple_6_46.pkl\")\n",
    "\n",
    "with open(path, 'wb') as file:\n",
    "    pickle.dump(logreg_short, file)"
   ]
  },
  {
   "cell_type": "markdown",
   "metadata": {},
   "source": [
    "### Навчання повної моделі логістичної регресії"
   ]
  },
  {
   "cell_type": "code",
   "execution_count": 13,
   "metadata": {},
   "outputs": [
    {
     "data": {
      "text/plain": [
       "0    11110\n",
       "1    10626\n",
       "Name: target, dtype: int64"
      ]
     },
     "execution_count": 13,
     "metadata": {},
     "output_type": "execute_result"
    }
   ],
   "source": [
    "# початковий перелік характеристик\n",
    "# logit_features_full = {'feature_2', 'feature_6', 'feature_12', 'feature_15', 'feature_18', 'feature_19', 'feature_23', 'feature_33', 'feature_46'}\n",
    "# logit_features_full = {'feature_6', 'feature_46'}\n",
    "# logit_features_full = set(cleaned_data.columns).difference({'id', 'period'})\n",
    "# logit_features_full = set(['feature_11', 'feature_46', 'feature_48', 'feature_16', 'feature_35',\n",
    "#        'feature_6', 'feature_40', 'feature_10', 'feature_36', 'feature_47',\n",
    "#        'feature_12', 'feature_4', 'feature_8', 'feature_43', 'feature_31',\n",
    "#        'feature_7', 'feature_22', 'feature_18', 'feature_32', 'feature_3'])\n",
    "logit_features_full = ['feature_46', 'feature_35',\n",
    "       'feature_6', 'feature_40', 'feature_47',\n",
    "       'feature_12', 'feature_4', 'feature_31',\n",
    "       'feature_18', 'feature_32', 'feature_3']\n",
    "\n",
    "logit_train_data = pd.merge(cleaned_data[set(logit_features_full) | {'id'}].dropna(), train, how='left', on='id')\n",
    "logit_train_data_oversampled = logit_train_data.append(logit_train_data[logit_train_data.target == 1])\n",
    "logit_train_data_oversampled = logit_train_data_oversampled.append(logit_train_data[logit_train_data.target == 1])\n",
    "logit_train_data_oversampled.target.value_counts()"
   ]
  },
  {
   "cell_type": "markdown",
   "metadata": {},
   "source": [
    "#### Створення моделі стандартизації та її вивантаження до зовнішнього файлу"
   ]
  },
  {
   "cell_type": "code",
   "execution_count": 14,
   "metadata": {},
   "outputs": [
    {
     "name": "stdout",
     "output_type": "stream",
     "text": [
      "(21736, 11)\n",
      "(21736,)\n"
     ]
    }
   ],
   "source": [
    "from sklearn import preprocessing\n",
    "\n",
    "scaler = preprocessing.StandardScaler().fit(logit_train_data[logit_features_full])\n",
    "X_scaled = pd.DataFrame(scaler.transform(logit_train_data_oversampled[logit_features_full]), \n",
    "                        columns=logit_features_full, index=logit_train_data_oversampled.index)\n",
    "\n",
    "# X = logit_train_data_oversampled[logit_features]\n",
    "X = X_scaled\n",
    "y = logit_train_data_oversampled.target\n",
    "\n",
    "path=Path(pickle_models_path, \"Scaler.pkl\")\n",
    "\n",
    "with open(path, 'wb') as file:\n",
    "    pickle.dump(scaler, file)\n",
    "\n",
    "print(X.shape)\n",
    "print(y.shape)\n",
    "# X_scaled"
   ]
  },
  {
   "cell_type": "markdown",
   "metadata": {},
   "source": [
    "#### Оптимізація переліку характеристик (RFE)"
   ]
  },
  {
   "cell_type": "code",
   "execution_count": 15,
   "metadata": {},
   "outputs": [
    {
     "name": "stdout",
     "output_type": "stream",
     "text": [
      "[ True  True  True  True  True  True  True  True  True  True  True]\n",
      "[1 1 1 1 1 1 1 1 1 1 1]\n"
     ]
    },
    {
     "data": {
      "text/plain": [
       "Index(['feature_46', 'feature_35', 'feature_6', 'feature_40', 'feature_47',\n",
       "       'feature_12', 'feature_4', 'feature_31', 'feature_18', 'feature_32',\n",
       "       'feature_3'],\n",
       "      dtype='object')"
      ]
     },
     "execution_count": 15,
     "metadata": {},
     "output_type": "execute_result"
    }
   ],
   "source": [
    "from sklearn.feature_selection import RFE\n",
    "from sklearn.linear_model import LogisticRegression\n",
    "\n",
    "logreg_full = LogisticRegression()\n",
    "\n",
    "rfe = RFE(logreg_full, n_features_to_select=20)\n",
    "rfe = rfe.fit(X, y.values.ravel())\n",
    "print(rfe.support_)\n",
    "print(rfe.ranking_)\n",
    "cols = X.columns\n",
    "cols[rfe.support_]"
   ]
  },
  {
   "cell_type": "code",
   "execution_count": 16,
   "metadata": {},
   "outputs": [
    {
     "name": "stdout",
     "output_type": "stream",
     "text": [
      "Optimization terminated successfully.\n",
      "         Current function value: 0.605406\n",
      "         Iterations 5\n",
      "                         Results: Logit\n",
      "=================================================================\n",
      "Model:              Logit            Pseudo R-squared: 0.126     \n",
      "Dependent Variable: target           AIC:              26340.2280\n",
      "Date:               2021-06-13 17:11 BIC:              26428.0820\n",
      "No. Observations:   21736            Log-Likelihood:   -13159.   \n",
      "Df Model:           10               LL-Null:          -15061.   \n",
      "Df Residuals:       21725            LLR p-value:      0.0000    \n",
      "Converged:          1.0000           Scale:            1.0000    \n",
      "No. Iterations:     5.0000                                       \n",
      "------------------------------------------------------------------\n",
      "              Coef.   Std.Err.     z      P>|z|    [0.025   0.975]\n",
      "------------------------------------------------------------------\n",
      "feature_46    0.4079    0.0176   23.2418  0.0000   0.3735   0.4423\n",
      "feature_35    0.0908    0.0176    5.1685  0.0000   0.0563   0.1252\n",
      "feature_6     0.4773    0.0191   25.0261  0.0000   0.4399   0.5146\n",
      "feature_40   -0.0829    0.0153   -5.4162  0.0000  -0.1129  -0.0529\n",
      "feature_47    0.3138    0.0311   10.0789  0.0000   0.2528   0.3749\n",
      "feature_12    0.2043    0.0173   11.8254  0.0000   0.1705   0.2382\n",
      "feature_4     0.1281    0.0292    4.3880  0.0000   0.0709   0.1853\n",
      "feature_31    0.1489    0.0151    9.8639  0.0000   0.1193   0.1784\n",
      "feature_18   -0.1758    0.0292   -6.0215  0.0000  -0.2330  -0.1185\n",
      "feature_32   -0.1176    0.0340   -3.4566  0.0005  -0.1843  -0.0509\n",
      "feature_3    -0.2006    0.0185  -10.8228  0.0000  -0.2369  -0.1643\n",
      "=================================================================\n",
      "\n"
     ]
    }
   ],
   "source": [
    "import statsmodels.api as sm\n",
    "\n",
    "\n",
    "logit_model = sm.Logit(y,X)\n",
    "result = logit_model.fit()\n",
    "print(result.summary2())\n",
    "\n",
    "# оптимізований перелік характеристик (p_value < 0.05) вносимо до logit_features 4 етапи вище"
   ]
  },
  {
   "cell_type": "markdown",
   "metadata": {},
   "source": [
    "#### Створення моделі логістичної регресії за обраним переліком характеристик"
   ]
  },
  {
   "cell_type": "code",
   "execution_count": 17,
   "metadata": {},
   "outputs": [
    {
     "data": {
      "text/plain": [
       "LogisticRegression()"
      ]
     },
     "execution_count": 17,
     "metadata": {},
     "output_type": "execute_result"
    }
   ],
   "source": [
    "from sklearn.linear_model import LogisticRegression\n",
    "from sklearn import metrics\n",
    "\n",
    "# X_train, X_test, y_train, y_test = train_test_split(X, y, test_size=0.3, random_state=0)\n",
    "\n",
    "logreg_full = LogisticRegression()\n",
    "logreg_full.fit(X, y)"
   ]
  },
  {
   "cell_type": "markdown",
   "metadata": {},
   "source": [
    "#### Вивантаження моделі до зовнішнього файлу"
   ]
  },
  {
   "cell_type": "code",
   "execution_count": 18,
   "metadata": {},
   "outputs": [],
   "source": [
    "import pickle\n",
    "path=Path(pickle_models_path, \"LogisticRegression_scaled_full.pkl\")\n",
    "\n",
    "with open(path, 'wb') as file:\n",
    "    pickle.dump(logreg_full, file)"
   ]
  },
  {
   "cell_type": "markdown",
   "metadata": {},
   "source": [
    "### Тестування"
   ]
  },
  {
   "cell_type": "markdown",
   "metadata": {},
   "source": [
    "#### Опис функції виведення результатів тестування"
   ]
  },
  {
   "cell_type": "code",
   "execution_count": 19,
   "metadata": {},
   "outputs": [],
   "source": [
    "def print_prediction_report(xy):\n",
    "    from sklearn.metrics import confusion_matrix\n",
    "    # confusion_matrix = confusion_matrix(y_test, y_pred)\n",
    "    # [[t0, f1] \n",
    "    #  [f0, t1]]\n",
    "    confusion_matrix = confusion_matrix(xy.target, xy.y_pred)\n",
    "    target_value_counts = xy.target.value_counts()\n",
    "    print(target_value_counts)\n",
    "    print(confusion_matrix)\n",
    "    # xy_predicted_data.shape\n",
    "    print('Overall data to predicted class 1 ratio (selectivity): {:.2f}'. \\\n",
    "          format(xy.shape[0] / (confusion_matrix[1,1] + confusion_matrix[0,1])))\n",
    "    print('Precision of class 1 prediction (precision): {:.2f}'.format(confusion_matrix[1,1] / (confusion_matrix[1,1] + confusion_matrix[0,1])))\n",
    "    print('(initial class 1 probability is {:.2f})'.format(target_value_counts[target_value_counts.index == 1].sum() / target_value_counts.sum()))\n",
    "    print('Completeness of class 1 prediction (recall): {:.2f}'.format(confusion_matrix[1,1] / (confusion_matrix[1,1] + confusion_matrix[1,0])))\n",
    "\n",
    "    print('mean(target) = {:.3f}'.format(xy.target.mean()))\n",
    "    print('mean(y_pred) = {:.3f}'.format(xy.y_pred.mean()))\n",
    "    print('mean(y_pred_proba) = {:.3f}'.format(xy.y_pred_proba.mean()))\n",
    "    \n",
    "    from sklearn.metrics import classification_report\n",
    "    print(classification_report(xy.target, xy.y_pred))\n",
    "    #показники якості бінарної кваліфікації:\n",
    "    #recall - повнота (яка частина певного класу виявлена)\n",
    "    #precision - точність (яка частина припущень щодо належності до класу є вірною)\n",
    "\n",
    "    from sklearn.metrics import roc_auc_score\n",
    "    from sklearn.metrics import roc_curve\n",
    "    logit_roc_auc = roc_auc_score(xy.target, xy.y_pred)\n",
    "    fpr, tpr, thresholds = roc_curve(xy.target, xy.y_pred_proba)\n",
    "    plt.figure()\n",
    "    plt.plot(fpr, tpr, label='Logistic Regression (area = %0.2f)' % logit_roc_auc)\n",
    "    plt.plot([0, 1], [0, 1],'r--')\n",
    "    plt.xlim([0.0, 1.0])\n",
    "    plt.ylim([0.0, 1.05])\n",
    "    plt.xlabel('False Positive Rate')\n",
    "    plt.ylabel('True Positive Rate')\n",
    "    plt.title('Receiver operating characteristic')\n",
    "    plt.legend(loc=\"lower right\")\n",
    "    # plt.savefig('Log_ROC')\n",
    "    plt.show()"
   ]
  },
  {
   "cell_type": "markdown",
   "metadata": {},
   "source": [
    "#### Тестування скороченої моделі"
   ]
  },
  {
   "cell_type": "code",
   "execution_count": 20,
   "metadata": {},
   "outputs": [],
   "source": [
    "logit_test_data = pd.merge(\n",
    "    tabular_data_test[set(logit_features_short) | {'id'}], train, how='left', on='id').dropna()"
   ]
  },
  {
   "cell_type": "code",
   "execution_count": 21,
   "metadata": {},
   "outputs": [
    {
     "name": "stdout",
     "output_type": "stream",
     "text": [
      "Accuracy of logistic regression classifier on test set: 0.65\n"
     ]
    }
   ],
   "source": [
    "X_test = logit_test_data[logit_features_short]\n",
    "y_pred = logreg_short.predict(X_test)\n",
    "y_pred_proba = logreg_short.predict_proba(X_test)[:,1]\n",
    "score = logreg_short.score(X_test, logit_test_data.target)\n",
    "print('Accuracy of logistic regression classifier on test set: {:.2f}'.format(score))\n",
    "logit_test_predicted = logit_test_data.join(pd.DataFrame({'y_pred':y_pred, 'y_pred_proba':y_pred_proba}, index=logit_test_data.index))\n",
    "\n",
    "# logit_test_predicted"
   ]
  },
  {
   "cell_type": "code",
   "execution_count": 22,
   "metadata": {},
   "outputs": [
    {
     "name": "stdout",
     "output_type": "stream",
     "text": [
      "0    7547\n",
      "1    2806\n",
      "Name: target, dtype: int64\n",
      "[[4808 2739]\n",
      " [ 936 1870]]\n",
      "Overall data to predicted class 1 ratio (selectivity): 2.25\n",
      "Precision of class 1 prediction (precision): 0.41\n",
      "(initial class 1 probability is 0.27)\n",
      "Completeness of class 1 prediction (recall): 0.67\n",
      "mean(target) = 0.271\n",
      "mean(y_pred) = 0.445\n",
      "mean(y_pred_proba) = 0.469\n",
      "              precision    recall  f1-score   support\n",
      "\n",
      "           0       0.84      0.64      0.72      7547\n",
      "           1       0.41      0.67      0.50      2806\n",
      "\n",
      "    accuracy                           0.65     10353\n",
      "   macro avg       0.62      0.65      0.61     10353\n",
      "weighted avg       0.72      0.65      0.66     10353\n",
      "\n"
     ]
    },
    {
     "data": {
      "image/png": "[encoded data removed]",
      "text/plain": [
       "<Figure size 432x288 with 1 Axes>"
      ]
     },
     "metadata": {
      "needs_background": "light"
     },
     "output_type": "display_data"
    }
   ],
   "source": [
    "print_prediction_report(pd.DataFrame({\n",
    "    'target':logit_test_predicted.target, \n",
    "    'y_pred':logit_test_predicted.y_pred, \n",
    "    'y_pred_proba':logit_test_predicted.y_pred_proba}))"
   ]
  },
  {
   "cell_type": "markdown",
   "metadata": {},
   "source": [
    "#### Тестування повної моделі"
   ]
  },
  {
   "cell_type": "code",
   "execution_count": 23,
   "metadata": {},
   "outputs": [],
   "source": [
    "logit_test_data = pd.merge(\n",
    "    tabular_data_test[set(logit_features_full) | {'id'}], train, how='left', on='id').dropna()"
   ]
  },
  {
   "cell_type": "code",
   "execution_count": 24,
   "metadata": {},
   "outputs": [
    {
     "name": "stdout",
     "output_type": "stream",
     "text": [
      "Accuracy of logistic regression classifier on test set: 0.67\n"
     ]
    }
   ],
   "source": [
    "X_test = scaler.transform(logit_test_data[logit_features_full])\n",
    "y_pred = logreg_full.predict(X_test)\n",
    "y_pred_proba = logreg_full.predict_proba(X_test)[:,1]\n",
    "score = logreg_full.score(X_test, logit_test_data.target)\n",
    "print('Accuracy of logistic regression classifier on test set: {:.2f}'.format(score))\n",
    "logit_test_predicted = logit_test_data.join(pd.DataFrame({'y_pred':y_pred, 'y_pred_proba':y_pred_proba}, index=logit_test_data.index))\n",
    "\n",
    "# logit_test_predicted.head()\n",
    "# logit_test_predicted[logit_test_predicted.y_pred.isna()]"
   ]
  },
  {
   "cell_type": "code",
   "execution_count": 25,
   "metadata": {},
   "outputs": [],
   "source": [
    "# print_prediction_report(pd.DataFrame({\n",
    "#     'target':logit_test_predicted.target, \n",
    "#     'y_pred':logit_test_predicted.y_pred, \n",
    "#     'y_pred_proba':logit_test_predicted.y_pred_proba}))"
   ]
  },
  {
   "cell_type": "code",
   "execution_count": 26,
   "metadata": {},
   "outputs": [],
   "source": [
    "# агрегація результатів класифікації\n",
    "logit_test_predicted_agg = logit_test_predicted.groupby('id').mean()\n",
    "logit_test_predicted_agg['y_pred_agg'] = (logit_test_predicted_agg.y_pred_proba >= 0.5).mul(1)\n",
    "# logit_test_predicted_agg[{'target', 'y_pred_proba', 'y_pred_agg'}].head()"
   ]
  },
  {
   "cell_type": "code",
   "execution_count": 27,
   "metadata": {},
   "outputs": [
    {
     "name": "stdout",
     "output_type": "stream",
     "text": [
      "0.0    591\n",
      "1.0    208\n",
      "Name: target, dtype: int64\n",
      "[[440 151]\n",
      " [ 85 123]]\n",
      "Overall data to predicted class 1 ratio (selectivity): 2.92\n",
      "Precision of class 1 prediction (precision): 0.45\n",
      "(initial class 1 probability is 0.26)\n",
      "Completeness of class 1 prediction (recall): 0.59\n",
      "mean(target) = 0.260\n",
      "mean(y_pred) = 0.343\n",
      "mean(y_pred_proba) = 0.415\n",
      "              precision    recall  f1-score   support\n",
      "\n",
      "         0.0       0.84      0.74      0.79       591\n",
      "         1.0       0.45      0.59      0.51       208\n",
      "\n",
      "    accuracy                           0.70       799\n",
      "   macro avg       0.64      0.67      0.65       799\n",
      "weighted avg       0.74      0.70      0.72       799\n",
      "\n"
     ]
    },
    {
     "data": {
      "image/png": "[encoded data removed]",
      "text/plain": [
       "<Figure size 432x288 with 1 Axes>"
      ]
     },
     "metadata": {
      "needs_background": "light"
     },
     "output_type": "display_data"
    }
   ],
   "source": [
    "print_prediction_report(pd.DataFrame({\n",
    "    'target':logit_test_predicted_agg.target, \n",
    "    'y_pred':logit_test_predicted_agg.y_pred_agg, \n",
    "    'y_pred_proba':logit_test_predicted_agg.y_pred_proba}))"
   ]
  },
  {
   "cell_type": "markdown",
   "metadata": {},
   "source": [
    "### Збереження варіантів тестових підвибірок до JSON-файлів"
   ]
  },
  {
   "cell_type": "code",
   "execution_count": 28,
   "metadata": {},
   "outputs": [],
   "source": [
    "# prepare data for API tests\n",
    "api_test_data = pd.merge(tabular_data_test, train, how='left', on='id').dropna(subset=logit_features_full)\n",
    "\n",
    "# повна тестова вибірка\n",
    "api_test_data_full = api_test_data\n",
    "api_test_data_full.to_json(Path(resources_data_path, \"api_test_data_full.json\"))\n",
    "\n",
    "# перші 25% тестової вибірки\n",
    "api_test_data_1000 = api_test_data[api_test_data.id < 1000]\n",
    "# .drop(columns=['target'])\n",
    "api_test_data_1000.to_json(Path(resources_data_path, \"api_test_data_1000.json\"))\n",
    "\n",
    "# без водіїв\n",
    "api_test_data_no_drivers = api_test_data[api_test_data.target == 0]\n",
    "# .drop(columns=['target'])\n",
    "api_test_data_no_drivers.to_json(Path(resources_data_path, \"api_test_data_no_drivers.json\"))\n",
    "\n",
    "# тільки водії\n",
    "api_test_data_drivers = api_test_data[api_test_data.target == 1]\n",
    "# .drop(columns=['target'])\n",
    "api_test_data_drivers.to_json(Path(resources_data_path, \"api_test_data_drivers.json\"))"
   ]
  },
  {
   "cell_type": "code",
   "execution_count": null,
   "metadata": {},
   "outputs": [],
   "source": []
  }
 ],
 "metadata": {
  "kernelspec": {
   "display_name": "Python 3",
   "language": "python",
   "name": "python3"
  },
  "language_info": {
   "codemirror_mode": {
    "name": "ipython",
    "version": 3
   },
   "file_extension": ".py",
   "mimetype": "text/x-python",
   "name": "python",
   "nbconvert_exporter": "python",
   "pygments_lexer": "ipython3",
   "version": "3.8.8"
  }
 },
 "nbformat": 4,
 "nbformat_minor": 4
}
