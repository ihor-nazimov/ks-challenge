{
 "cells": [
  {
   "cell_type": "code",
   "execution_count": 6,
   "metadata": {},
   "outputs": [],
   "source": [
    "import pandas as pd\n",
    "import pickle"
   ]
  },
  {
   "cell_type": "code",
   "execution_count": 11,
   "metadata": {},
   "outputs": [
    {
     "data": {
      "text/plain": [
       "'/home/ihor/anaconda_src/ks-challenge'"
      ]
     },
     "execution_count": 11,
     "metadata": {},
     "output_type": "execute_result"
    }
   ],
   "source": [
    "pwd"
   ]
  },
  {
   "cell_type": "code",
   "execution_count": 10,
   "metadata": {},
   "outputs": [
    {
     "name": "stdout",
     "output_type": "stream",
     "text": [
      "/home/ihor/anaconda_src/ks-challenge\n"
     ]
    }
   ],
   "source": [
    "cd '/home/ihor/anaconda_src/ks-challenge'"
   ]
  },
  {
   "cell_type": "code",
   "execution_count": 12,
   "metadata": {},
   "outputs": [],
   "source": [
    "# Loading the Pre-trained model using Pickle\n",
    "with open('./lib/models/LogisticRegression_simple_6_46.pkl', 'rb') as file:\n",
    "    simple_model = pickle.load(file)\n",
    "\n",
    "with open('./lib/models/Scaler.pkl', 'rb') as file:\n",
    "    scaler = pickle.load(file)\n",
    "with open('./lib/models/LogisticRegression_scaled_full.pkl', 'rb') as file:\n",
    "    model = pickle.load(file)\n",
    "logit_features = set(['feature_46', 'feature_35',\n",
    "       'feature_6', 'feature_40', 'feature_47',\n",
    "       'feature_12', 'feature_4', 'feature_31',\n",
    "       'feature_18', 'feature_32', 'feature_3'])"
   ]
  },
  {
   "cell_type": "code",
   "execution_count": 25,
   "metadata": {},
   "outputs": [
    {
     "name": "stdout",
     "output_type": "stream",
     "text": [
      "(11, 12)\n",
      "Scaling...\n",
      "Scaling completed\n",
      "Prediction...\n",
      "Prediction completed\n",
      "(11, 14)\n"
     ]
    },
    {
     "data": {
      "text/html": [
       "<div>\n",
       "<style scoped>\n",
       "    .dataframe tbody tr th:only-of-type {\n",
       "        vertical-align: middle;\n",
       "    }\n",
       "\n",
       "    .dataframe tbody tr th {\n",
       "        vertical-align: top;\n",
       "    }\n",
       "\n",
       "    .dataframe thead th {\n",
       "        text-align: right;\n",
       "    }\n",
       "</style>\n",
       "<table border=\"1\" class=\"dataframe\">\n",
       "  <thead>\n",
       "    <tr style=\"text-align: right;\">\n",
       "      <th></th>\n",
       "      <th>y_pred_proba</th>\n",
       "    </tr>\n",
       "    <tr>\n",
       "      <th>id</th>\n",
       "      <th></th>\n",
       "    </tr>\n",
       "  </thead>\n",
       "  <tbody>\n",
       "    <tr>\n",
       "      <th>0</th>\n",
       "      <td>1.0</td>\n",
       "    </tr>\n",
       "  </tbody>\n",
       "</table>\n",
       "</div>"
      ],
      "text/plain": [
       "    y_pred_proba\n",
       "id              \n",
       "0            1.0"
      ]
     },
     "execution_count": 25,
     "metadata": {},
     "output_type": "execute_result"
    }
   ],
   "source": [
    "fullfilename = '/tmp/flask/test_data.json'\n",
    "\n",
    "test_data = pd.read_json(fullfilename)[logit_features | {'id'}].dropna()\n",
    "print(test_data.shape)\n",
    "print('Scaling...')\n",
    "test_data_scaled = scaler.transform(test_data[logit_features])\n",
    "print('Scaling completed')\n",
    "\n",
    "print('Prediction...')\n",
    "y_pred = model.predict(test_data_scaled)\n",
    "print('Prediction completed')\n",
    "y_pred_proba = model.predict_proba(test_data_scaled)[:,1]\n",
    "y_pred_proba\n",
    "predicted_data = test_data.join(pd.DataFrame({'y_pred':y_pred, 'y_pred_proba':y_pred_proba}, index=test_data.index))\n",
    "print(predicted_data.shape)\n",
    "predicted_data[{'id', 'y_pred_proba'}].groupby('id').mean()"
   ]
  }
 ],
 "metadata": {
  "kernelspec": {
   "display_name": "Python 3",
   "language": "python",
   "name": "python3"
  },
  "language_info": {
   "codemirror_mode": {
    "name": "ipython",
    "version": 3
   },
   "file_extension": ".py",
   "mimetype": "text/x-python",
   "name": "python",
   "nbconvert_exporter": "python",
   "pygments_lexer": "ipython3",
   "version": "3.8.5"
  }
 },
 "nbformat": 4,
 "nbformat_minor": 4
}
